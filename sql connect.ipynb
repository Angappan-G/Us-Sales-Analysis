{
 "cells": [
  {
   "cell_type": "code",
   "execution_count": 1,
   "metadata": {},
   "outputs": [],
   "source": [
    "import pandas as pd\n",
    "import pyodbc"
   ]
  },
  {
   "cell_type": "code",
   "execution_count": 2,
   "metadata": {},
   "outputs": [],
   "source": [
    "# Establish connection\n",
    "conn = pyodbc.connect(\n",
    "    \"DRIVER={ODBC Driver 17 for SQL Server};\"\n",
    "    \"SERVER=DESKTOP-JUPQFSM\\SQLEXPRESS;\"\n",
    "    \"DATABASE=datavault;\"\n",
    "    \"Trusted_Connection=yes;\"\n",
    ")"
   ]
  },
  {
   "cell_type": "code",
   "execution_count": 5,
   "metadata": {},
   "outputs": [],
   "source": [
    "query = \"Select * from sales\""
   ]
  },
  {
   "cell_type": "code",
   "execution_count": null,
   "metadata": {},
   "outputs": [
    {
     "name": "stderr",
     "output_type": "stream",
     "text": [
      "C:\\Users\\DELL\\AppData\\Local\\Temp\\ipykernel_7936\\3871150124.py:1: UserWarning: pandas only supports SQLAlchemy connectable (engine/connection) or database string URI or sqlite3 DBAPI2 connection. Other DBAPI2 objects are not tested. Please consider using SQLAlchemy.\n",
      "  df = pd.read_sql_query(query,conn)\n"
     ]
    }
   ],
   "source": [
    "df = pd.read_sql_query(query,conn)"
   ]
  },
  {
   "cell_type": "code",
   "execution_count": 7,
   "metadata": {},
   "outputs": [
    {
     "data": {
      "text/html": [
       "<div>\n",
       "<style scoped>\n",
       "    .dataframe tbody tr th:only-of-type {\n",
       "        vertical-align: middle;\n",
       "    }\n",
       "\n",
       "    .dataframe tbody tr th {\n",
       "        vertical-align: top;\n",
       "    }\n",
       "\n",
       "    .dataframe thead th {\n",
       "        text-align: right;\n",
       "    }\n",
       "</style>\n",
       "<table border=\"1\" class=\"dataframe\">\n",
       "  <thead>\n",
       "    <tr style=\"text-align: right;\">\n",
       "      <th></th>\n",
       "      <th>order_id</th>\n",
       "      <th>Order_Date</th>\n",
       "      <th>item_id</th>\n",
       "      <th>Category</th>\n",
       "      <th>Sub_Category</th>\n",
       "      <th>Sub_Sub_Category</th>\n",
       "      <th>Brand</th>\n",
       "      <th>Unit_Price</th>\n",
       "      <th>Qty</th>\n",
       "      <th>Discount Percent</th>\n",
       "      <th>Unit_Cost</th>\n",
       "      <th>City</th>\n",
       "      <th>State</th>\n",
       "      <th>Region</th>\n",
       "      <th>loc_id</th>\n",
       "      <th>Order_Type</th>\n",
       "      <th>Payment_Method</th>\n",
       "      <th>Customer_id</th>\n",
       "    </tr>\n",
       "  </thead>\n",
       "  <tbody>\n",
       "    <tr>\n",
       "      <th>0</th>\n",
       "      <td>2421.0</td>\n",
       "      <td>2013-12-31</td>\n",
       "      <td>860.0</td>\n",
       "      <td>Mobile Phones</td>\n",
       "      <td>Smartphones</td>\n",
       "      <td>Android Phones</td>\n",
       "      <td>iBall</td>\n",
       "      <td>96.861099</td>\n",
       "      <td>1.0</td>\n",
       "      <td>0.305252</td>\n",
       "      <td>68.621803</td>\n",
       "      <td>San Francisco</td>\n",
       "      <td>California</td>\n",
       "      <td>North</td>\n",
       "      <td>29.0</td>\n",
       "      <td>Contact Center</td>\n",
       "      <td>Credit Card EMI</td>\n",
       "      <td>321029.0</td>\n",
       "    </tr>\n",
       "    <tr>\n",
       "      <th>1</th>\n",
       "      <td>4437.0</td>\n",
       "      <td>2013-02-25</td>\n",
       "      <td>1620.0</td>\n",
       "      <td>Footwear</td>\n",
       "      <td>Women Footwear</td>\n",
       "      <td>Sports Sandals</td>\n",
       "      <td>Adidas</td>\n",
       "      <td>46.916698</td>\n",
       "      <td>1.0</td>\n",
       "      <td>0.327013</td>\n",
       "      <td>42.831799</td>\n",
       "      <td>San Jose</td>\n",
       "      <td>California</td>\n",
       "      <td>North</td>\n",
       "      <td>40.0</td>\n",
       "      <td>Contact Center</td>\n",
       "      <td>Cash on Delivery</td>\n",
       "      <td>237040.0</td>\n",
       "    </tr>\n",
       "    <tr>\n",
       "      <th>2</th>\n",
       "      <td>32690.0</td>\n",
       "      <td>2013-07-27</td>\n",
       "      <td>1951.0</td>\n",
       "      <td>Cameras</td>\n",
       "      <td>Camera</td>\n",
       "      <td>Digital SLR</td>\n",
       "      <td>Sony</td>\n",
       "      <td>1333.329956</td>\n",
       "      <td>1.0</td>\n",
       "      <td>0.019674</td>\n",
       "      <td>938.179016</td>\n",
       "      <td>Los Angeles</td>\n",
       "      <td>California</td>\n",
       "      <td>North</td>\n",
       "      <td>23.0</td>\n",
       "      <td>Contact Center</td>\n",
       "      <td>Debit Card</td>\n",
       "      <td>140023.0</td>\n",
       "    </tr>\n",
       "    <tr>\n",
       "      <th>3</th>\n",
       "      <td>32914.0</td>\n",
       "      <td>2013-07-25</td>\n",
       "      <td>2412.0</td>\n",
       "      <td>Computer Hardware</td>\n",
       "      <td>Printers</td>\n",
       "      <td>Inkjet</td>\n",
       "      <td>HP</td>\n",
       "      <td>138.889008</td>\n",
       "      <td>1.0</td>\n",
       "      <td>0.133727</td>\n",
       "      <td>130.639999</td>\n",
       "      <td>San Francisco</td>\n",
       "      <td>California</td>\n",
       "      <td>North</td>\n",
       "      <td>29.0</td>\n",
       "      <td>Contact Center</td>\n",
       "      <td>Credit Card</td>\n",
       "      <td>364029.0</td>\n",
       "    </tr>\n",
       "  </tbody>\n",
       "</table>\n",
       "</div>"
      ],
      "text/plain": [
       "   order_id Order_Date  item_id           Category    Sub_Category  \\\n",
       "0    2421.0 2013-12-31    860.0      Mobile Phones     Smartphones   \n",
       "1    4437.0 2013-02-25   1620.0           Footwear  Women Footwear   \n",
       "2   32690.0 2013-07-27   1951.0            Cameras          Camera   \n",
       "3   32914.0 2013-07-25   2412.0  Computer Hardware        Printers   \n",
       "\n",
       "  Sub_Sub_Category   Brand   Unit_Price  Qty  Discount Percent   Unit_Cost  \\\n",
       "0   Android Phones   iBall    96.861099  1.0          0.305252   68.621803   \n",
       "1   Sports Sandals  Adidas    46.916698  1.0          0.327013   42.831799   \n",
       "2      Digital SLR    Sony  1333.329956  1.0          0.019674  938.179016   \n",
       "3           Inkjet      HP   138.889008  1.0          0.133727  130.639999   \n",
       "\n",
       "            City       State Region  loc_id      Order_Type    Payment_Method  \\\n",
       "0  San Francisco  California  North    29.0  Contact Center   Credit Card EMI   \n",
       "1       San Jose  California  North    40.0  Contact Center  Cash on Delivery   \n",
       "2    Los Angeles  California  North    23.0  Contact Center        Debit Card   \n",
       "3  San Francisco  California  North    29.0  Contact Center       Credit Card   \n",
       "\n",
       "   Customer_id  \n",
       "0     321029.0  \n",
       "1     237040.0  \n",
       "2     140023.0  \n",
       "3     364029.0  "
      ]
     },
     "execution_count": 7,
     "metadata": {},
     "output_type": "execute_result"
    }
   ],
   "source": [
    "df.head(4)"
   ]
  },
  {
   "cell_type": "code",
   "execution_count": 22,
   "metadata": {},
   "outputs": [],
   "source": [
    "#find the total sales using unit_price and Qty fields\n",
    "df['Sales'] = df['Unit_Price'] * df['Qty'].astype(int)"
   ]
  },
  {
   "cell_type": "code",
   "execution_count": 23,
   "metadata": {},
   "outputs": [
    {
     "data": {
      "text/html": [
       "<div>\n",
       "<style scoped>\n",
       "    .dataframe tbody tr th:only-of-type {\n",
       "        vertical-align: middle;\n",
       "    }\n",
       "\n",
       "    .dataframe tbody tr th {\n",
       "        vertical-align: top;\n",
       "    }\n",
       "\n",
       "    .dataframe thead th {\n",
       "        text-align: right;\n",
       "    }\n",
       "</style>\n",
       "<table border=\"1\" class=\"dataframe\">\n",
       "  <thead>\n",
       "    <tr style=\"text-align: right;\">\n",
       "      <th></th>\n",
       "      <th>Unit_Price</th>\n",
       "      <th>Qty</th>\n",
       "      <th>Sales</th>\n",
       "    </tr>\n",
       "  </thead>\n",
       "  <tbody>\n",
       "    <tr>\n",
       "      <th>45872</th>\n",
       "      <td>19.444401</td>\n",
       "      <td>1.0</td>\n",
       "      <td>19.444401</td>\n",
       "    </tr>\n",
       "    <tr>\n",
       "      <th>45873</th>\n",
       "      <td>19.444401</td>\n",
       "      <td>1.0</td>\n",
       "      <td>19.444401</td>\n",
       "    </tr>\n",
       "    <tr>\n",
       "      <th>45874</th>\n",
       "      <td>19.444401</td>\n",
       "      <td>1.0</td>\n",
       "      <td>19.444401</td>\n",
       "    </tr>\n",
       "    <tr>\n",
       "      <th>45875</th>\n",
       "      <td>22.222200</td>\n",
       "      <td>1.0</td>\n",
       "      <td>22.222200</td>\n",
       "    </tr>\n",
       "    <tr>\n",
       "      <th>45876</th>\n",
       "      <td>44.416698</td>\n",
       "      <td>1.0</td>\n",
       "      <td>44.416698</td>\n",
       "    </tr>\n",
       "    <tr>\n",
       "      <th>45877</th>\n",
       "      <td>36.083302</td>\n",
       "      <td>1.0</td>\n",
       "      <td>36.083302</td>\n",
       "    </tr>\n",
       "    <tr>\n",
       "      <th>45878</th>\n",
       "      <td>27.750000</td>\n",
       "      <td>1.0</td>\n",
       "      <td>27.750000</td>\n",
       "    </tr>\n",
       "    <tr>\n",
       "      <th>45879</th>\n",
       "      <td>27.750000</td>\n",
       "      <td>1.0</td>\n",
       "      <td>27.750000</td>\n",
       "    </tr>\n",
       "    <tr>\n",
       "      <th>45880</th>\n",
       "      <td>55.527802</td>\n",
       "      <td>1.0</td>\n",
       "      <td>55.527802</td>\n",
       "    </tr>\n",
       "    <tr>\n",
       "      <th>45881</th>\n",
       "      <td>19.444401</td>\n",
       "      <td>1.0</td>\n",
       "      <td>19.444401</td>\n",
       "    </tr>\n",
       "    <tr>\n",
       "      <th>45882</th>\n",
       "      <td>46.916698</td>\n",
       "      <td>1.0</td>\n",
       "      <td>46.916698</td>\n",
       "    </tr>\n",
       "    <tr>\n",
       "      <th>45883</th>\n",
       "      <td>44.416698</td>\n",
       "      <td>1.0</td>\n",
       "      <td>44.416698</td>\n",
       "    </tr>\n",
       "    <tr>\n",
       "      <th>45884</th>\n",
       "      <td>27.750000</td>\n",
       "      <td>1.0</td>\n",
       "      <td>27.750000</td>\n",
       "    </tr>\n",
       "    <tr>\n",
       "      <th>45885</th>\n",
       "      <td>27.750000</td>\n",
       "      <td>1.0</td>\n",
       "      <td>27.750000</td>\n",
       "    </tr>\n",
       "    <tr>\n",
       "      <th>45886</th>\n",
       "      <td>27.750000</td>\n",
       "      <td>1.0</td>\n",
       "      <td>27.750000</td>\n",
       "    </tr>\n",
       "    <tr>\n",
       "      <th>45887</th>\n",
       "      <td>27.750000</td>\n",
       "      <td>1.0</td>\n",
       "      <td>27.750000</td>\n",
       "    </tr>\n",
       "    <tr>\n",
       "      <th>45888</th>\n",
       "      <td>55.527802</td>\n",
       "      <td>1.0</td>\n",
       "      <td>55.527802</td>\n",
       "    </tr>\n",
       "    <tr>\n",
       "      <th>45889</th>\n",
       "      <td>55.527802</td>\n",
       "      <td>1.0</td>\n",
       "      <td>55.527802</td>\n",
       "    </tr>\n",
       "    <tr>\n",
       "      <th>45890</th>\n",
       "      <td>19.444401</td>\n",
       "      <td>1.0</td>\n",
       "      <td>19.444401</td>\n",
       "    </tr>\n",
       "    <tr>\n",
       "      <th>45891</th>\n",
       "      <td>19.444401</td>\n",
       "      <td>1.0</td>\n",
       "      <td>19.444401</td>\n",
       "    </tr>\n",
       "  </tbody>\n",
       "</table>\n",
       "</div>"
      ],
      "text/plain": [
       "       Unit_Price  Qty      Sales\n",
       "45872   19.444401  1.0  19.444401\n",
       "45873   19.444401  1.0  19.444401\n",
       "45874   19.444401  1.0  19.444401\n",
       "45875   22.222200  1.0  22.222200\n",
       "45876   44.416698  1.0  44.416698\n",
       "45877   36.083302  1.0  36.083302\n",
       "45878   27.750000  1.0  27.750000\n",
       "45879   27.750000  1.0  27.750000\n",
       "45880   55.527802  1.0  55.527802\n",
       "45881   19.444401  1.0  19.444401\n",
       "45882   46.916698  1.0  46.916698\n",
       "45883   44.416698  1.0  44.416698\n",
       "45884   27.750000  1.0  27.750000\n",
       "45885   27.750000  1.0  27.750000\n",
       "45886   27.750000  1.0  27.750000\n",
       "45887   27.750000  1.0  27.750000\n",
       "45888   55.527802  1.0  55.527802\n",
       "45889   55.527802  1.0  55.527802\n",
       "45890   19.444401  1.0  19.444401\n",
       "45891   19.444401  1.0  19.444401"
      ]
     },
     "execution_count": 23,
     "metadata": {},
     "output_type": "execute_result"
    }
   ],
   "source": [
    "df[['Unit_Price','Qty','Sales']].tail(20)\n",
    "# df[df['Qty'] == 2.]"
   ]
  },
  {
   "cell_type": "markdown",
   "metadata": {},
   "source": [
    "1.Total Sales by category"
   ]
  },
  {
   "cell_type": "code",
   "execution_count": 20,
   "metadata": {},
   "outputs": [],
   "source": [
    "Sales_by_Category = df.groupby('Category')['Sales'].sum().reset_index()"
   ]
  },
  {
   "cell_type": "code",
   "execution_count": 21,
   "metadata": {},
   "outputs": [
    {
     "name": "stdout",
     "output_type": "stream",
     "text": [
      "            Category         Sales\n",
      "0            Cameras  2.155049e+06\n",
      "1           Clothing  4.167938e+05\n",
      "2  Computer Hardware  5.570059e+06\n",
      "3           Footwear  5.139076e+05\n",
      "4      Mobile Phones  1.455517e+06\n",
      "5            Watches  2.759806e+05\n"
     ]
    }
   ],
   "source": [
    "print(Sales_by_Category.head(20))"
   ]
  },
  {
   "cell_type": "markdown",
   "metadata": {},
   "source": [
    "2.Higest Sales by Sub Category"
   ]
  },
  {
   "cell_type": "code",
   "execution_count": 40,
   "metadata": {},
   "outputs": [
    {
     "data": {
      "text/html": [
       "<div>\n",
       "<style scoped>\n",
       "    .dataframe tbody tr th:only-of-type {\n",
       "        vertical-align: middle;\n",
       "    }\n",
       "\n",
       "    .dataframe tbody tr th {\n",
       "        vertical-align: top;\n",
       "    }\n",
       "\n",
       "    .dataframe thead th {\n",
       "        text-align: right;\n",
       "    }\n",
       "</style>\n",
       "<table border=\"1\" class=\"dataframe\">\n",
       "  <thead>\n",
       "    <tr style=\"text-align: right;\">\n",
       "      <th></th>\n",
       "      <th>order_id</th>\n",
       "      <th>Order_Date</th>\n",
       "      <th>item_id</th>\n",
       "      <th>Category</th>\n",
       "      <th>Sub_Category</th>\n",
       "      <th>Sub_Sub_Category</th>\n",
       "      <th>Brand</th>\n",
       "      <th>Unit_Price</th>\n",
       "      <th>Qty</th>\n",
       "      <th>Discount Percent</th>\n",
       "      <th>Unit_Cost</th>\n",
       "      <th>City</th>\n",
       "      <th>State</th>\n",
       "      <th>Region</th>\n",
       "      <th>loc_id</th>\n",
       "      <th>Order_Type</th>\n",
       "      <th>Payment_Method</th>\n",
       "      <th>Customer_id</th>\n",
       "      <th>Sales</th>\n",
       "      <th>Revenue</th>\n",
       "    </tr>\n",
       "  </thead>\n",
       "  <tbody>\n",
       "    <tr>\n",
       "      <th>0</th>\n",
       "      <td>2421.0</td>\n",
       "      <td>2013-12-31</td>\n",
       "      <td>860.0</td>\n",
       "      <td>Mobile Phones</td>\n",
       "      <td>Smartphones</td>\n",
       "      <td>Android Phones</td>\n",
       "      <td>iBall</td>\n",
       "      <td>96.861099</td>\n",
       "      <td>1.0</td>\n",
       "      <td>0.305252</td>\n",
       "      <td>68.621803</td>\n",
       "      <td>San Francisco</td>\n",
       "      <td>California</td>\n",
       "      <td>North</td>\n",
       "      <td>29.0</td>\n",
       "      <td>Contact Center</td>\n",
       "      <td>Credit Card EMI</td>\n",
       "      <td>321029.0</td>\n",
       "      <td>96.861099</td>\n",
       "      <td>67.294056</td>\n",
       "    </tr>\n",
       "    <tr>\n",
       "      <th>1</th>\n",
       "      <td>4437.0</td>\n",
       "      <td>2013-02-25</td>\n",
       "      <td>1620.0</td>\n",
       "      <td>Footwear</td>\n",
       "      <td>Women Footwear</td>\n",
       "      <td>Sports Sandals</td>\n",
       "      <td>Adidas</td>\n",
       "      <td>46.916698</td>\n",
       "      <td>1.0</td>\n",
       "      <td>0.327013</td>\n",
       "      <td>42.831799</td>\n",
       "      <td>San Jose</td>\n",
       "      <td>California</td>\n",
       "      <td>North</td>\n",
       "      <td>40.0</td>\n",
       "      <td>Contact Center</td>\n",
       "      <td>Cash on Delivery</td>\n",
       "      <td>237040.0</td>\n",
       "      <td>46.916698</td>\n",
       "      <td>31.574329</td>\n",
       "    </tr>\n",
       "  </tbody>\n",
       "</table>\n",
       "</div>"
      ],
      "text/plain": [
       "   order_id Order_Date  item_id       Category    Sub_Category  \\\n",
       "0    2421.0 2013-12-31    860.0  Mobile Phones     Smartphones   \n",
       "1    4437.0 2013-02-25   1620.0       Footwear  Women Footwear   \n",
       "\n",
       "  Sub_Sub_Category   Brand  Unit_Price  Qty  Discount Percent  Unit_Cost  \\\n",
       "0   Android Phones   iBall   96.861099  1.0          0.305252  68.621803   \n",
       "1   Sports Sandals  Adidas   46.916698  1.0          0.327013  42.831799   \n",
       "\n",
       "            City       State Region  loc_id      Order_Type    Payment_Method  \\\n",
       "0  San Francisco  California  North    29.0  Contact Center   Credit Card EMI   \n",
       "1       San Jose  California  North    40.0  Contact Center  Cash on Delivery   \n",
       "\n",
       "   Customer_id      Sales    Revenue  \n",
       "0     321029.0  96.861099  67.294056  \n",
       "1     237040.0  46.916698  31.574329  "
      ]
     },
     "execution_count": 40,
     "metadata": {},
     "output_type": "execute_result"
    }
   ],
   "source": [
    "df.head(2)"
   ]
  },
  {
   "cell_type": "code",
   "execution_count": 37,
   "metadata": {},
   "outputs": [
    {
     "data": {
      "text/plain": [
       "Sub_Category    Laptops\n",
       "Sales           25000.0\n",
       "Name: 32903, dtype: object"
      ]
     },
     "execution_count": 37,
     "metadata": {},
     "output_type": "execute_result"
    }
   ],
   "source": [
    "df.loc[df['Sales'].idxmax(), ['Sub_Category', 'Sales']]\n",
    "# df['Sales'].max()"
   ]
  },
  {
   "cell_type": "code",
   "execution_count": 38,
   "metadata": {},
   "outputs": [],
   "source": [
    "df['Revenue'] = (df['Unit_Price'] * df['Qty']) * (1 - df['Discount Percent'])\n"
   ]
  },
  {
   "cell_type": "code",
   "execution_count": 39,
   "metadata": {},
   "outputs": [
    {
     "data": {
      "text/plain": [
       "0          67.294056\n",
       "1          31.574329\n",
       "2        1307.098155\n",
       "3         120.315797\n",
       "4        1250.464773\n",
       "            ...     \n",
       "45887      26.487747\n",
       "45888      39.608037\n",
       "45889      40.877291\n",
       "45890      16.844762\n",
       "45891      14.623648\n",
       "Name: Revenue, Length: 45892, dtype: float64"
      ]
     },
     "execution_count": 39,
     "metadata": {},
     "output_type": "execute_result"
    }
   ],
   "source": [
    "df['Revenue']"
   ]
  },
  {
   "cell_type": "markdown",
   "metadata": {},
   "source": [
    "3.Top 5 Brands by revenue"
   ]
  },
  {
   "cell_type": "code",
   "execution_count": 41,
   "metadata": {},
   "outputs": [
    {
     "data": {
      "text/html": [
       "<div>\n",
       "<style scoped>\n",
       "    .dataframe tbody tr th:only-of-type {\n",
       "        vertical-align: middle;\n",
       "    }\n",
       "\n",
       "    .dataframe tbody tr th {\n",
       "        vertical-align: top;\n",
       "    }\n",
       "\n",
       "    .dataframe thead th {\n",
       "        text-align: right;\n",
       "    }\n",
       "</style>\n",
       "<table border=\"1\" class=\"dataframe\">\n",
       "  <thead>\n",
       "    <tr style=\"text-align: right;\">\n",
       "      <th></th>\n",
       "      <th>order_id</th>\n",
       "      <th>Order_Date</th>\n",
       "      <th>item_id</th>\n",
       "      <th>Category</th>\n",
       "      <th>Sub_Category</th>\n",
       "      <th>Sub_Sub_Category</th>\n",
       "      <th>Brand</th>\n",
       "      <th>Unit_Price</th>\n",
       "      <th>Qty</th>\n",
       "      <th>Discount Percent</th>\n",
       "      <th>Unit_Cost</th>\n",
       "      <th>City</th>\n",
       "      <th>State</th>\n",
       "      <th>Region</th>\n",
       "      <th>loc_id</th>\n",
       "      <th>Order_Type</th>\n",
       "      <th>Payment_Method</th>\n",
       "      <th>Customer_id</th>\n",
       "      <th>Sales</th>\n",
       "      <th>Revenue</th>\n",
       "    </tr>\n",
       "  </thead>\n",
       "  <tbody>\n",
       "    <tr>\n",
       "      <th>0</th>\n",
       "      <td>2421.0</td>\n",
       "      <td>2013-12-31</td>\n",
       "      <td>860.0</td>\n",
       "      <td>Mobile Phones</td>\n",
       "      <td>Smartphones</td>\n",
       "      <td>Android Phones</td>\n",
       "      <td>iBall</td>\n",
       "      <td>96.861099</td>\n",
       "      <td>1.0</td>\n",
       "      <td>0.305252</td>\n",
       "      <td>68.621803</td>\n",
       "      <td>San Francisco</td>\n",
       "      <td>California</td>\n",
       "      <td>North</td>\n",
       "      <td>29.0</td>\n",
       "      <td>Contact Center</td>\n",
       "      <td>Credit Card EMI</td>\n",
       "      <td>321029.0</td>\n",
       "      <td>96.861099</td>\n",
       "      <td>67.294056</td>\n",
       "    </tr>\n",
       "    <tr>\n",
       "      <th>1</th>\n",
       "      <td>4437.0</td>\n",
       "      <td>2013-02-25</td>\n",
       "      <td>1620.0</td>\n",
       "      <td>Footwear</td>\n",
       "      <td>Women Footwear</td>\n",
       "      <td>Sports Sandals</td>\n",
       "      <td>Adidas</td>\n",
       "      <td>46.916698</td>\n",
       "      <td>1.0</td>\n",
       "      <td>0.327013</td>\n",
       "      <td>42.831799</td>\n",
       "      <td>San Jose</td>\n",
       "      <td>California</td>\n",
       "      <td>North</td>\n",
       "      <td>40.0</td>\n",
       "      <td>Contact Center</td>\n",
       "      <td>Cash on Delivery</td>\n",
       "      <td>237040.0</td>\n",
       "      <td>46.916698</td>\n",
       "      <td>31.574329</td>\n",
       "    </tr>\n",
       "  </tbody>\n",
       "</table>\n",
       "</div>"
      ],
      "text/plain": [
       "   order_id Order_Date  item_id       Category    Sub_Category  \\\n",
       "0    2421.0 2013-12-31    860.0  Mobile Phones     Smartphones   \n",
       "1    4437.0 2013-02-25   1620.0       Footwear  Women Footwear   \n",
       "\n",
       "  Sub_Sub_Category   Brand  Unit_Price  Qty  Discount Percent  Unit_Cost  \\\n",
       "0   Android Phones   iBall   96.861099  1.0          0.305252  68.621803   \n",
       "1   Sports Sandals  Adidas   46.916698  1.0          0.327013  42.831799   \n",
       "\n",
       "            City       State Region  loc_id      Order_Type    Payment_Method  \\\n",
       "0  San Francisco  California  North    29.0  Contact Center   Credit Card EMI   \n",
       "1       San Jose  California  North    40.0  Contact Center  Cash on Delivery   \n",
       "\n",
       "   Customer_id      Sales    Revenue  \n",
       "0     321029.0  96.861099  67.294056  \n",
       "1     237040.0  46.916698  31.574329  "
      ]
     },
     "execution_count": 41,
     "metadata": {},
     "output_type": "execute_result"
    }
   ],
   "source": [
    "df.head(2)"
   ]
  },
  {
   "cell_type": "code",
   "execution_count": 52,
   "metadata": {},
   "outputs": [
    {
     "name": "stdout",
     "output_type": "stream",
     "text": [
      "Brand\n",
      "Lenovo     1.398385e+06\n",
      "Samsung    1.229416e+06\n",
      "Dell       1.089950e+06\n",
      "Apple      9.422786e+05\n",
      "Acer       8.326391e+05\n",
      "Name: Sales, dtype: float64\n"
     ]
    }
   ],
   "source": [
    "top_5_brands = df.groupby('Brand')['Sales'].sum().nlargest(5)\n",
    "print(top_5_brands)"
   ]
  },
  {
   "cell_type": "markdown",
   "metadata": {},
   "source": [
    "4. Find the Lenovo Brans Sales"
   ]
  },
  {
   "cell_type": "code",
   "execution_count": 63,
   "metadata": {},
   "outputs": [
    {
     "name": "stdout",
     "output_type": "stream",
     "text": [
      "1397785\n"
     ]
    }
   ],
   "source": [
    "Lenovo_Sales = df[df['Brand'] == 'Lenovo']['Sales'].sum()\n",
    "print(Lenovo_Sales)"
   ]
  },
  {
   "cell_type": "code",
   "execution_count": 62,
   "metadata": {},
   "outputs": [
    {
     "data": {
      "text/plain": [
       "0          96\n",
       "1          46\n",
       "2        1333\n",
       "3         138\n",
       "4        1426\n",
       "         ... \n",
       "45887      27\n",
       "45888      55\n",
       "45889      55\n",
       "45890      19\n",
       "45891      19\n",
       "Name: Sales, Length: 45892, dtype: int32"
      ]
     },
     "execution_count": 62,
     "metadata": {},
     "output_type": "execute_result"
    }
   ],
   "source": [
    "df['Sales'].astype(int)"
   ]
  },
  {
   "cell_type": "markdown",
   "metadata": {},
   "source": [
    "5.Most Popular Payment method"
   ]
  },
  {
   "cell_type": "code",
   "execution_count": 64,
   "metadata": {},
   "outputs": [
    {
     "data": {
      "text/html": [
       "<div>\n",
       "<style scoped>\n",
       "    .dataframe tbody tr th:only-of-type {\n",
       "        vertical-align: middle;\n",
       "    }\n",
       "\n",
       "    .dataframe tbody tr th {\n",
       "        vertical-align: top;\n",
       "    }\n",
       "\n",
       "    .dataframe thead th {\n",
       "        text-align: right;\n",
       "    }\n",
       "</style>\n",
       "<table border=\"1\" class=\"dataframe\">\n",
       "  <thead>\n",
       "    <tr style=\"text-align: right;\">\n",
       "      <th></th>\n",
       "      <th>order_id</th>\n",
       "      <th>Order_Date</th>\n",
       "      <th>item_id</th>\n",
       "      <th>Category</th>\n",
       "      <th>Sub_Category</th>\n",
       "      <th>Sub_Sub_Category</th>\n",
       "      <th>Brand</th>\n",
       "      <th>Unit_Price</th>\n",
       "      <th>Qty</th>\n",
       "      <th>Discount Percent</th>\n",
       "      <th>Unit_Cost</th>\n",
       "      <th>City</th>\n",
       "      <th>State</th>\n",
       "      <th>Region</th>\n",
       "      <th>loc_id</th>\n",
       "      <th>Order_Type</th>\n",
       "      <th>Payment_Method</th>\n",
       "      <th>Customer_id</th>\n",
       "      <th>Sales</th>\n",
       "      <th>Revenue</th>\n",
       "    </tr>\n",
       "  </thead>\n",
       "  <tbody>\n",
       "    <tr>\n",
       "      <th>0</th>\n",
       "      <td>2421.0</td>\n",
       "      <td>2013-12-31</td>\n",
       "      <td>860.0</td>\n",
       "      <td>Mobile Phones</td>\n",
       "      <td>Smartphones</td>\n",
       "      <td>Android Phones</td>\n",
       "      <td>iBall</td>\n",
       "      <td>96.861099</td>\n",
       "      <td>1.0</td>\n",
       "      <td>0.305252</td>\n",
       "      <td>68.621803</td>\n",
       "      <td>San Francisco</td>\n",
       "      <td>California</td>\n",
       "      <td>North</td>\n",
       "      <td>29.0</td>\n",
       "      <td>Contact Center</td>\n",
       "      <td>Credit Card EMI</td>\n",
       "      <td>321029.0</td>\n",
       "      <td>96</td>\n",
       "      <td>67.294056</td>\n",
       "    </tr>\n",
       "    <tr>\n",
       "      <th>1</th>\n",
       "      <td>4437.0</td>\n",
       "      <td>2013-02-25</td>\n",
       "      <td>1620.0</td>\n",
       "      <td>Footwear</td>\n",
       "      <td>Women Footwear</td>\n",
       "      <td>Sports Sandals</td>\n",
       "      <td>Adidas</td>\n",
       "      <td>46.916698</td>\n",
       "      <td>1.0</td>\n",
       "      <td>0.327013</td>\n",
       "      <td>42.831799</td>\n",
       "      <td>San Jose</td>\n",
       "      <td>California</td>\n",
       "      <td>North</td>\n",
       "      <td>40.0</td>\n",
       "      <td>Contact Center</td>\n",
       "      <td>Cash on Delivery</td>\n",
       "      <td>237040.0</td>\n",
       "      <td>46</td>\n",
       "      <td>31.574329</td>\n",
       "    </tr>\n",
       "  </tbody>\n",
       "</table>\n",
       "</div>"
      ],
      "text/plain": [
       "   order_id Order_Date  item_id       Category    Sub_Category  \\\n",
       "0    2421.0 2013-12-31    860.0  Mobile Phones     Smartphones   \n",
       "1    4437.0 2013-02-25   1620.0       Footwear  Women Footwear   \n",
       "\n",
       "  Sub_Sub_Category   Brand  Unit_Price  Qty  Discount Percent  Unit_Cost  \\\n",
       "0   Android Phones   iBall   96.861099  1.0          0.305252  68.621803   \n",
       "1   Sports Sandals  Adidas   46.916698  1.0          0.327013  42.831799   \n",
       "\n",
       "            City       State Region  loc_id      Order_Type    Payment_Method  \\\n",
       "0  San Francisco  California  North    29.0  Contact Center   Credit Card EMI   \n",
       "1       San Jose  California  North    40.0  Contact Center  Cash on Delivery   \n",
       "\n",
       "   Customer_id  Sales    Revenue  \n",
       "0     321029.0     96  67.294056  \n",
       "1     237040.0     46  31.574329  "
      ]
     },
     "execution_count": 64,
     "metadata": {},
     "output_type": "execute_result"
    }
   ],
   "source": [
    "df.head(2)"
   ]
  },
  {
   "cell_type": "code",
   "execution_count": 68,
   "metadata": {},
   "outputs": [
    {
     "data": {
      "text/plain": [
       "Payment_Method\n",
       "Credit Card    8885\n",
       "Name: order_id, dtype: int64"
      ]
     },
     "execution_count": 68,
     "metadata": {},
     "output_type": "execute_result"
    }
   ],
   "source": [
    "df.groupby('Payment_Method')['order_id'].count().sort_values(ascending=False).head(1)"
   ]
  },
  {
   "cell_type": "markdown",
   "metadata": {},
   "source": [
    "6. Average Discount rate per category"
   ]
  },
  {
   "cell_type": "code",
   "execution_count": 75,
   "metadata": {},
   "outputs": [
    {
     "data": {
      "text/plain": [
       "Category\n",
       "Mobile Phones    0.179583\n",
       "Name: Discount Percent, dtype: float64"
      ]
     },
     "execution_count": 75,
     "metadata": {},
     "output_type": "execute_result"
    }
   ],
   "source": [
    "df.groupby('Category')['Discount Percent'].mean().nlargest(1)"
   ]
  },
  {
   "cell_type": "code",
   "execution_count": null,
   "metadata": {},
   "outputs": [],
   "source": []
  }
 ],
 "metadata": {
  "kernelspec": {
   "display_name": "Python 3",
   "language": "python",
   "name": "python3"
  },
  "language_info": {
   "codemirror_mode": {
    "name": "ipython",
    "version": 3
   },
   "file_extension": ".py",
   "mimetype": "text/x-python",
   "name": "python",
   "nbconvert_exporter": "python",
   "pygments_lexer": "ipython3",
   "version": "3.8.10"
  }
 },
 "nbformat": 4,
 "nbformat_minor": 2
}
